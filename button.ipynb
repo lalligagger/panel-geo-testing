{
 "cells": [
  {
   "cell_type": "code",
   "execution_count": null,
   "metadata": {},
   "outputs": [],
   "source": [
    "# ! pip install jupyter_bokeh"
   ]
  },
  {
   "cell_type": "code",
   "execution_count": null,
   "metadata": {},
   "outputs": [],
   "source": [
    "import panel as pn\n",
    "pn.extension()\n",
    "\n",
    "button = pn.widgets.Button(name='Click me', button_type='primary')\n",
    "button\n",
    "\n",
    "text = pn.widgets.TextInput(value='Ready')\n",
    "\n",
    "def b(event):\n",
    "    text.value = 'Clicked {0} times'.format(button.clicks)\n",
    "    \n",
    "button.on_click(b)\n",
    "pn.Row(button, text).servable()"
   ]
  },
  {
   "cell_type": "code",
   "execution_count": 1,
   "metadata": {},
   "outputs": [
    {
     "name": "stdout",
     "output_type": "stream",
     "text": [
      "2023-05-28 14:25:36,549 Starting Bokeh server version 3.1.1 (running on Tornado 6.3.2)\n",
      "2023-05-28 14:25:36,787 User authentication hooks NOT provided (default user enabled)\n",
      "2023-05-28 14:25:36,790 Bokeh app running at: http://localhost:5006/button\n",
      "2023-05-28 14:25:36,790 Starting Bokeh server with process id: 69713\n",
      "2023-05-28 14:25:38,354 WebSocket connection opened\n",
      "2023-05-28 14:25:38,355 ServerConnection created\n",
      "2023-05-28 14:25:43,829 WebSocket connection closed: code=1001, reason=None\n"
     ]
    }
   ],
   "source": [
    "! panel serve button.ipynb"
   ]
  }
 ],
 "metadata": {
  "kernelspec": {
   "display_name": "langchain",
   "language": "python",
   "name": "python3"
  },
  "language_info": {
   "codemirror_mode": {
    "name": "ipython",
    "version": 3
   },
   "file_extension": ".py",
   "mimetype": "text/x-python",
   "name": "python",
   "nbconvert_exporter": "python",
   "pygments_lexer": "ipython3",
   "version": "3.11.3"
  },
  "orig_nbformat": 4
 },
 "nbformat": 4,
 "nbformat_minor": 2
}
