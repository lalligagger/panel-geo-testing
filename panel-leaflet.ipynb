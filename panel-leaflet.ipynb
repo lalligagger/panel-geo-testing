{
 "cells": [
  {
   "cell_type": "code",
   "execution_count": null,
   "metadata": {},
   "outputs": [],
   "source": [
    "from ipyleaflet import Map, Marker\n",
    "\n",
    "import panel as pn\n",
    "\n",
    "pn.extension(\"ipywidgets\", sizing_mode=\"stretch_width\")\n",
    "\n",
    "from ipyleaflet import Map, Marker\n",
    "\n",
    "ACCENT_BASE_COLOR = \"#DAA520\"\n",
    "\n",
    "\n",
    "def get_marker_and_map():\n",
    "    center = (52.204793, 360.121558)\n",
    "\n",
    "    lmap = Map(center=center, zoom=15, height=500)\n",
    "\n",
    "    marker = Marker(location=center, draggable=True)\n",
    "    lmap.add_layer(marker)\n",
    "    lmap.layout.height=\"100%\"\n",
    "    lmap.layout.width=\"100%\"\n",
    "    return marker, lmap\n",
    "\n",
    "marker, lmap = get_marker_and_map()\n",
    "\n",
    "json_widget = pn.pane.JSON({}, height=75)\n",
    "\n",
    "def on_location_changed(event):\n",
    "    new = event[\"new\"]\n",
    "    json_widget.object = {\"x\": new[0], \"y\": new[1]}\n",
    "marker.observe(on_location_changed, 'location')\n",
    "\n",
    "component = pn.Column(\n",
    "    pn.panel(lmap, sizing_mode=\"stretch_both\", min_height=500),\n",
    "    json_widget\n",
    ")\n",
    "\n",
    "template = pn.template.FastListTemplate(\n",
    "    site=\"Awesome Panel\",\n",
    "    title=\"IPyLeaflet\",\n",
    "    logo=\"https://panel.holoviz.org/_static/logo_stacked.png\",\n",
    "    header_background=ACCENT_BASE_COLOR,\n",
    "    accent_base_color=ACCENT_BASE_COLOR,\n",
    "    main=[component],\n",
    ").servable()"
   ]
  },
  {
   "cell_type": "code",
   "execution_count": null,
   "metadata": {},
   "outputs": [],
   "source": [
    "! panel serve panel-leaflet.ipynb"
   ]
  },
  {
   "cell_type": "code",
   "execution_count": null,
   "metadata": {},
   "outputs": [],
   "source": [
    "# ! pip install ipyleaflet==0.17.0"
   ]
  },
  {
   "cell_type": "code",
   "execution_count": null,
   "metadata": {},
   "outputs": [],
   "source": []
  }
 ],
 "metadata": {
  "kernelspec": {
   "display_name": "langchain",
   "language": "python",
   "name": "python3"
  },
  "language_info": {
   "codemirror_mode": {
    "name": "ipython",
    "version": 3
   },
   "file_extension": ".py",
   "mimetype": "text/x-python",
   "name": "python",
   "nbconvert_exporter": "python",
   "pygments_lexer": "ipython3",
   "version": "3.11.3"
  },
  "orig_nbformat": 4
 },
 "nbformat": 4,
 "nbformat_minor": 2
}
